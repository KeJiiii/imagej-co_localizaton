{
 "cells": [
  {
   "cell_type": "code",
   "execution_count": 118,
   "metadata": {},
   "outputs": [
    {
     "name": "stdout",
     "output_type": "stream",
     "text": [
      "//10.10.42.178/DuLabSMB/14_临时上传文件--未知文件移至这里/to_CTL/Phocl-ZXX-processed/light/20211026_Kaede-light_Cycle_1\n"
     ]
    }
   ],
   "source": [
    "import pandas as pd\n",
    "import numpy as np\n",
    "import os\n",
    "from tkinter import filedialog\n",
    "path = filedialog.askdirectory()\n",
    "os.chdir(path)\n",
    "files=os.listdir(path)\n",
    "print(path)\n",
    "name1=path.split(\"/\")[-2]\n",
    "name2=path.split(\"/\")[-1]"
   ]
  },
  {
   "cell_type": "code",
   "execution_count": 119,
   "metadata": {},
   "outputs": [],
   "source": [
    "def co_count(file):\n",
    "    file=pd.read_csv(file)\n",
    "    file=file[(file[\"Ch2\"]>200) | (file[\"Ch1\"]>200)]\n",
    "    colocalize=file[(file[\"Ch2\"]>200) & (file[\"Ch1\"] >200) ]\n",
    "    ch1=file[(file[\"Ch2\"]<50) & (file[\"Ch1\"] > 200) ]\n",
    "    ch2=file[(file[\"Ch2\"]>200) & (file[\"Ch1\"] < 50) ]\n",
    "    return[len(ch1),len(ch2),len(colocalize),colocalize]"
   ]
  },
  {
   "cell_type": "code",
   "execution_count": 120,
   "metadata": {},
   "outputs": [
    {
     "name": "stdout",
     "output_type": "stream",
     "text": [
      "375\n",
      "161\n",
      "178\n",
      "304\n",
      "156\n",
      "667\n"
     ]
    }
   ],
   "source": [
    "data=pd.DataFrame(columns=[\"name\",\"green\",\"red only\",\"co\",\"rate\",\"co_color_ratio_mean\"])\n",
    "for file in files:\n",
    "    if \"list_ratio\" in file:\n",
    "        green=co_count(file)[0]+co_count(file)[2]\n",
    "        print(green)\n",
    "        red_only=co_count(file)[1]\n",
    "        co=co_count(file)[2]\n",
    "        rate=0 if green == 0 else co_count(file)[2] / green\n",
    "        \n",
    "        color_ratio=co_count(file)[3][\"Ch1/Ch2\"].mean()\n",
    "        data=data.append({\"name\":file,\"green\":green,\"red only\":red_only,\"co\":co,\"rate\":rate,\"co_color_ratio_mean\":color_ratio},ignore_index=True)\n",
    "        #co_count(file)[3].to_excel\n",
    "data.to_excel(\"//10.10.42.178/DuLabSMB/14_临时上传文件--未知文件移至这里/to_CTL/Phocl-ZXX-processed/\"+name1+\"/\"+name2+\".xlsx\")\n"
   ]
  }
 ],
 "metadata": {
  "kernelspec": {
   "display_name": "Python 3.8.12 ('TRP3.8')",
   "language": "python",
   "name": "python3"
  },
  "language_info": {
   "codemirror_mode": {
    "name": "ipython",
    "version": 3
   },
   "file_extension": ".py",
   "mimetype": "text/x-python",
   "name": "python",
   "nbconvert_exporter": "python",
   "pygments_lexer": "ipython3",
   "version": "3.8.12"
  },
  "orig_nbformat": 4,
  "vscode": {
   "interpreter": {
    "hash": "42f2871479060b2438d9d6acd5c9725136511731398938f9667a4f20c0ef0b52"
   }
  }
 },
 "nbformat": 4,
 "nbformat_minor": 2
}
